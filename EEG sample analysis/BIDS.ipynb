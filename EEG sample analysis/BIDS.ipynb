{
 "cells": [
  {
   "cell_type": "code",
   "execution_count": 1,
   "id": "e1070dbf",
   "metadata": {},
   "outputs": [],
   "source": [
    "import mne\n",
    "import mne_bids\n",
    "import pandas as pd\n",
    "import matplotlib.pyplot as plt\n",
    "%matplotlib inline"
   ]
  },
  {
   "cell_type": "code",
   "execution_count": 2,
   "id": "3a243cbd",
   "metadata": {},
   "outputs": [],
   "source": [
    "raw_fname = r'C:\\Users\\sathvik\\MNE-sample-data\\MEG\\sample\\sample_audvis_raw.fif'"
   ]
  },
  {
   "cell_type": "code",
   "execution_count": 3,
   "id": "133b2038",
   "metadata": {},
   "outputs": [
    {
     "name": "stdout",
     "output_type": "stream",
     "text": [
      "Opening raw data file C:\\Users\\sathvik\\MNE-sample-data\\MEG\\sample\\sample_audvis_raw.fif...\n",
      "    Read a total of 3 projection items:\n",
      "        PCA-v1 (1 x 102)  idle\n",
      "        PCA-v2 (1 x 102)  idle\n",
      "        PCA-v3 (1 x 102)  idle\n",
      "    Range : 25800 ... 192599 =     42.956 ...   320.670 secs\n",
      "Ready.\n",
      "320 events found\n",
      "Event IDs: [ 1  2  3  4  5 32]\n"
     ]
    }
   ],
   "source": [
    "raw=mne.io.read_raw(raw_fname)\n",
    "events=mne.find_events(raw)\n",
    "event_id={\n",
    "   'Auditory/left' :1,\n",
    "    'Auditory/right':2,\n",
    "    'Visual/Left':3,\n",
    "    'Visual/Right':4,\n",
    "    'Smiley':5,\n",
    "    'Button':32\n",
    "}"
   ]
  },
  {
   "cell_type": "markdown",
   "id": "f1ad0e82",
   "metadata": {},
   "source": [
    "#### Specify power line frequency "
   ]
  },
  {
   "cell_type": "code",
   "execution_count": 4,
   "id": "c182643f",
   "metadata": {},
   "outputs": [],
   "source": [
    "raw.info['line_freq']=60"
   ]
  },
  {
   "cell_type": "markdown",
   "id": "e33c32e0",
   "metadata": {},
   "source": [
    "#### Writing out the data "
   ]
  },
  {
   "cell_type": "code",
   "execution_count": 5,
   "id": "8c4d3cf7",
   "metadata": {},
   "outputs": [
    {
     "name": "stdout",
     "output_type": "stream",
     "text": [
      "Opening raw data file C:\\Users\\sathvik\\MNE-sample-data\\MEG\\sample\\sample_audvis_raw.fif...\n",
      "    Read a total of 3 projection items:\n",
      "        PCA-v1 (1 x 102)  idle\n",
      "        PCA-v2 (1 x 102)  idle\n",
      "        PCA-v3 (1 x 102)  idle\n",
      "    Range : 25800 ... 192599 =     42.956 ...   320.670 secs\n",
      "Ready.\n",
      "Writing 'out_data\\sample_BIDS\\README'...\n",
      "Writing 'out_data\\sample_BIDS\\participants.tsv'...\n",
      "Writing 'out_data\\sample_BIDS\\participants.json'...\n",
      "Writing 'out_data\\sample_BIDS\\sub-01\\ses-01\\meg\\sub-01_ses-01_coordsystem.json'...\n",
      "Writing 'out_data\\sample_BIDS\\sub-01\\ses-01\\meg\\sub-01_ses-01_coordsystem.json'...\n",
      "Used Annotations descriptions: ['Auditory/left', 'Auditory/right', 'Button', 'Smiley', 'Visual/Left', 'Visual/Right']\n",
      "Writing 'out_data\\sample_BIDS\\sub-01\\ses-01\\meg\\sub-01_ses-01_task-audiovisual_run-01_events.tsv'...\n",
      "Writing 'out_data\\sample_BIDS\\dataset_description.json'...\n",
      "Writing 'out_data\\sample_BIDS\\sub-01\\ses-01\\meg\\sub-01_ses-01_task-audiovisual_run-01_meg.json'...\n",
      "Writing 'out_data\\sample_BIDS\\sub-01\\ses-01\\meg\\sub-01_ses-01_task-audiovisual_run-01_channels.tsv'...\n",
      "Copying data files to sub-01_ses-01_task-audiovisual_run-01_meg.fif\n",
      "Reserving possible split file sub-01_ses-01_task-audiovisual_run-01_split-01_meg.fif\n",
      "Writing C:\\Users\\sathvik\\Desktop\\Computational Neuroscience\\projects\\files\\assignment\\out_data\\sample_BIDS\\sub-01\\ses-01\\meg\\sub-01_ses-01_task-audiovisual_run-01_meg.fif\n"
     ]
    },
    {
     "name": "stderr",
     "output_type": "stream",
     "text": [
      "C:\\Users\\sathvik\\AppData\\Local\\Temp\\ipykernel_26180\\2676186298.py:8: FutureWarning: The events_data parameter has been deprecated in favor the new events parameter, to ensure better consistency  with MNE-Python. The events_data parameter will be removed in MNE-BIDS 0.14. Please use the events parameter instead.\n",
      "  mne_bids.write_raw_bids(raw,bids_path=bids_path,events_data=events,event_id=event_id,overwrite=True)\n"
     ]
    },
    {
     "name": "stdout",
     "output_type": "stream",
     "text": [
      "Closing C:\\Users\\sathvik\\Desktop\\Computational Neuroscience\\projects\\files\\assignment\\out_data\\sample_BIDS\\sub-01\\ses-01\\meg\\sub-01_ses-01_task-audiovisual_run-01_meg.fif\n",
      "[done]\n",
      "Writing 'out_data\\sample_BIDS\\sub-01\\ses-01\\sub-01_ses-01_scans.tsv'...\n",
      "Wrote out_data\\sample_BIDS\\sub-01\\ses-01\\sub-01_ses-01_scans.tsv entry with meg\\sub-01_ses-01_task-audiovisual_run-01_meg.fif.\n"
     ]
    },
    {
     "data": {
      "text/plain": [
       "BIDSPath(\n",
       "root: out_data/sample_BIDS\n",
       "datatype: meg\n",
       "basename: sub-01_ses-01_task-audiovisual_run-01_meg.fif)"
      ]
     },
     "execution_count": 5,
     "metadata": {},
     "output_type": "execute_result"
    }
   ],
   "source": [
    "out_path='out_data\\sample_BIDS'\n",
    "bids_path=mne_bids.BIDSPath(subject='01',\n",
    "                            session='01',\n",
    "                            task='audiovisual',\n",
    "                            run='01',\n",
    "                            root=out_path\n",
    ")\n",
    "mne_bids.write_raw_bids(raw,bids_path=bids_path,events_data=events,event_id=event_id,overwrite=True)\n"
   ]
  },
  {
   "cell_type": "code",
   "execution_count": 6,
   "id": "19dee758",
   "metadata": {},
   "outputs": [
    {
     "data": {
      "text/html": [
       "<div>\n",
       "<style scoped>\n",
       "    .dataframe tbody tr th:only-of-type {\n",
       "        vertical-align: middle;\n",
       "    }\n",
       "\n",
       "    .dataframe tbody tr th {\n",
       "        vertical-align: top;\n",
       "    }\n",
       "\n",
       "    .dataframe thead th {\n",
       "        text-align: right;\n",
       "    }\n",
       "</style>\n",
       "<table border=\"1\" class=\"dataframe\">\n",
       "  <thead>\n",
       "    <tr style=\"text-align: right;\">\n",
       "      <th></th>\n",
       "      <th>onset</th>\n",
       "      <th>duration</th>\n",
       "      <th>trial_type</th>\n",
       "      <th>value</th>\n",
       "      <th>sample</th>\n",
       "    </tr>\n",
       "  </thead>\n",
       "  <tbody>\n",
       "    <tr>\n",
       "      <th>0</th>\n",
       "      <td>3.624618</td>\n",
       "      <td>0.0</td>\n",
       "      <td>Auditory/right</td>\n",
       "      <td>2</td>\n",
       "      <td>2177</td>\n",
       "    </tr>\n",
       "    <tr>\n",
       "      <th>1</th>\n",
       "      <td>4.237323</td>\n",
       "      <td>0.0</td>\n",
       "      <td>Visual/Left</td>\n",
       "      <td>3</td>\n",
       "      <td>2545</td>\n",
       "    </tr>\n",
       "    <tr>\n",
       "      <th>2</th>\n",
       "      <td>4.946596</td>\n",
       "      <td>0.0</td>\n",
       "      <td>Auditory/left</td>\n",
       "      <td>1</td>\n",
       "      <td>2971</td>\n",
       "    </tr>\n",
       "    <tr>\n",
       "      <th>3</th>\n",
       "      <td>5.692499</td>\n",
       "      <td>0.0</td>\n",
       "      <td>Visual/Right</td>\n",
       "      <td>4</td>\n",
       "      <td>3419</td>\n",
       "    </tr>\n",
       "    <tr>\n",
       "      <th>4</th>\n",
       "      <td>6.413426</td>\n",
       "      <td>0.0</td>\n",
       "      <td>Auditory/right</td>\n",
       "      <td>2</td>\n",
       "      <td>3852</td>\n",
       "    </tr>\n",
       "    <tr>\n",
       "      <th>...</th>\n",
       "      <td>...</td>\n",
       "      <td>...</td>\n",
       "      <td>...</td>\n",
       "      <td>...</td>\n",
       "      <td>...</td>\n",
       "    </tr>\n",
       "    <tr>\n",
       "      <th>315</th>\n",
       "      <td>212.134233</td>\n",
       "      <td>0.0</td>\n",
       "      <td>Auditory/right</td>\n",
       "      <td>2</td>\n",
       "      <td>127411</td>\n",
       "    </tr>\n",
       "    <tr>\n",
       "      <th>316</th>\n",
       "      <td>212.916764</td>\n",
       "      <td>0.0</td>\n",
       "      <td>Visual/Left</td>\n",
       "      <td>3</td>\n",
       "      <td>127881</td>\n",
       "    </tr>\n",
       "    <tr>\n",
       "      <th>317</th>\n",
       "      <td>213.581083</td>\n",
       "      <td>0.0</td>\n",
       "      <td>Auditory/left</td>\n",
       "      <td>1</td>\n",
       "      <td>128280</td>\n",
       "    </tr>\n",
       "    <tr>\n",
       "      <th>318</th>\n",
       "      <td>214.257057</td>\n",
       "      <td>0.0</td>\n",
       "      <td>Visual/Right</td>\n",
       "      <td>4</td>\n",
       "      <td>128686</td>\n",
       "    </tr>\n",
       "    <tr>\n",
       "      <th>319</th>\n",
       "      <td>237.876181</td>\n",
       "      <td>0.0</td>\n",
       "      <td>Button</td>\n",
       "      <td>32</td>\n",
       "      <td>142872</td>\n",
       "    </tr>\n",
       "  </tbody>\n",
       "</table>\n",
       "<p>320 rows × 5 columns</p>\n",
       "</div>"
      ],
      "text/plain": [
       "          onset  duration      trial_type  value  sample\n",
       "0      3.624618       0.0  Auditory/right      2    2177\n",
       "1      4.237323       0.0     Visual/Left      3    2545\n",
       "2      4.946596       0.0   Auditory/left      1    2971\n",
       "3      5.692499       0.0    Visual/Right      4    3419\n",
       "4      6.413426       0.0  Auditory/right      2    3852\n",
       "..          ...       ...             ...    ...     ...\n",
       "315  212.134233       0.0  Auditory/right      2  127411\n",
       "316  212.916764       0.0     Visual/Left      3  127881\n",
       "317  213.581083       0.0   Auditory/left      1  128280\n",
       "318  214.257057       0.0    Visual/Right      4  128686\n",
       "319  237.876181       0.0          Button     32  142872\n",
       "\n",
       "[320 rows x 5 columns]"
      ]
     },
     "execution_count": 6,
     "metadata": {},
     "output_type": "execute_result"
    }
   ],
   "source": [
    "pd.read_table(r'C:\\Users\\sathvik\\Desktop\\Computational Neuroscience\\projects\\files\\assignment\\out_data\\sample_BIDS\\sub-01\\ses-01\\meg\\sub-01_ses-01_task-audiovisual_run-01_events.tsv')"
   ]
  },
  {
   "cell_type": "code",
   "execution_count": 7,
   "id": "e9426e49",
   "metadata": {},
   "outputs": [],
   "source": [
    "sss = 'C:/Users/sathvik/MNE-sample-data/'"
   ]
  },
  {
   "cell_type": "markdown",
   "id": "a5644eca",
   "metadata": {},
   "source": [
    "####  Write the Elekta/Neuromag/MEGIN fine-calibration matrix to disk.\n"
   ]
  },
  {
   "cell_type": "code",
   "execution_count": 8,
   "id": "b849f39e",
   "metadata": {},
   "outputs": [
    {
     "name": "stdout",
     "output_type": "stream",
     "text": [
      "Writing fine-calibration file to out_data/sample_BIDS/sub-01/ses-01/meg/sub-01_ses-01_acq-calibration_meg.dat\n",
      "Writing crosstalk file to out_data/sample_BIDS/sub-01/ses-01/meg/sub-01_ses-01_acq-crosstalk_meg.fif\n"
     ]
    }
   ],
   "source": [
    "cal_path=r'C:\\Users\\sathvik\\Desktop\\Computational Neuroscience\\projects\\MNE-sample-data\\SSS\\sss_cal_mgh.dat'\n",
    "ct_path=r'C:\\Users\\sathvik\\Desktop\\Computational Neuroscience\\projects\\MNE-sample-data\\SSS\\ct_sparse_mgh.fif'\n",
    "mne_bids.write_meg_calibration(cal_path,bids_path=bids_path)\n",
    "mne_bids.write_meg_crosstalk(ct_path,bids_path=bids_path)"
   ]
  },
  {
   "cell_type": "code",
   "execution_count": 9,
   "id": "3a0d5b68",
   "metadata": {},
   "outputs": [
    {
     "name": "stdout",
     "output_type": "stream",
     "text": [
      "|sample_BIDS\\\n",
      "|--- README\n",
      "|--- dataset_description.json\n",
      "|--- participants.json\n",
      "|--- participants.tsv\n",
      "|--- sub-01\\\n",
      "|------ ses-01\\\n",
      "|--------- sub-01_ses-01_scans.tsv\n",
      "|--------- meg\\\n",
      "|------------ sub-01_ses-01_acq-calibration_meg.dat\n",
      "|------------ sub-01_ses-01_acq-crosstalk_meg.fif\n",
      "|------------ sub-01_ses-01_coordsystem.json\n",
      "|------------ sub-01_ses-01_task-audiovisual_run-01_channels.tsv\n",
      "|------------ sub-01_ses-01_task-audiovisual_run-01_events.tsv\n",
      "|------------ sub-01_ses-01_task-audiovisual_run-01_meg.fif\n",
      "|------------ sub-01_ses-01_task-audiovisual_run-01_meg.json\n"
     ]
    }
   ],
   "source": [
    "mne_bids.print_dir_tree(out_path)"
   ]
  },
  {
   "cell_type": "code",
   "execution_count": 10,
   "id": "0f1e84d6",
   "metadata": {},
   "outputs": [
    {
     "ename": "IndexError",
     "evalue": "index 0 is out of bounds for axis 0 with size 0",
     "output_type": "error",
     "traceback": [
      "\u001b[1;31m---------------------------------------------------------------------------\u001b[0m",
      "\u001b[1;31mIndexError\u001b[0m                                Traceback (most recent call last)",
      "Input \u001b[1;32mIn [10]\u001b[0m, in \u001b[0;36m<cell line: 1>\u001b[1;34m()\u001b[0m\n\u001b[1;32m----> 1\u001b[0m \u001b[43mraw\u001b[49m\u001b[38;5;241;43m.\u001b[39;49m\u001b[43mannotations\u001b[49m\u001b[43m[\u001b[49m\u001b[38;5;241;43m0\u001b[39;49m\u001b[43m]\u001b[49m\n",
      "File \u001b[1;32mC:\\Python310\\lib\\site-packages\\mne\\annotations.py:321\u001b[0m, in \u001b[0;36mAnnotations.__getitem__\u001b[1;34m(self, key)\u001b[0m\n\u001b[0;32m    319\u001b[0m \u001b[38;5;28;01mif\u001b[39;00m \u001b[38;5;28misinstance\u001b[39m(key, int_like):\n\u001b[0;32m    320\u001b[0m     out_keys \u001b[38;5;241m=\u001b[39m (\u001b[38;5;124m'\u001b[39m\u001b[38;5;124monset\u001b[39m\u001b[38;5;124m'\u001b[39m, \u001b[38;5;124m'\u001b[39m\u001b[38;5;124mduration\u001b[39m\u001b[38;5;124m'\u001b[39m, \u001b[38;5;124m'\u001b[39m\u001b[38;5;124mdescription\u001b[39m\u001b[38;5;124m'\u001b[39m, \u001b[38;5;124m'\u001b[39m\u001b[38;5;124morig_time\u001b[39m\u001b[38;5;124m'\u001b[39m)\n\u001b[1;32m--> 321\u001b[0m     out_vals \u001b[38;5;241m=\u001b[39m (\u001b[38;5;28;43mself\u001b[39;49m\u001b[38;5;241;43m.\u001b[39;49m\u001b[43monset\u001b[49m\u001b[43m[\u001b[49m\u001b[43mkey\u001b[49m\u001b[43m]\u001b[49m, \u001b[38;5;28mself\u001b[39m\u001b[38;5;241m.\u001b[39mduration[key],\n\u001b[0;32m    322\u001b[0m                 \u001b[38;5;28mself\u001b[39m\u001b[38;5;241m.\u001b[39mdescription[key], \u001b[38;5;28mself\u001b[39m\u001b[38;5;241m.\u001b[39morig_time)\n\u001b[0;32m    323\u001b[0m     \u001b[38;5;28;01mif\u001b[39;00m \u001b[38;5;28mself\u001b[39m\u001b[38;5;241m.\u001b[39m_any_ch_names():\n\u001b[0;32m    324\u001b[0m         out_keys \u001b[38;5;241m+\u001b[39m\u001b[38;5;241m=\u001b[39m (\u001b[38;5;124m'\u001b[39m\u001b[38;5;124mch_names\u001b[39m\u001b[38;5;124m'\u001b[39m,)\n",
      "\u001b[1;31mIndexError\u001b[0m: index 0 is out of bounds for axis 0 with size 0"
     ]
    }
   ],
   "source": [
    "raw.annotations[0]"
   ]
  },
  {
   "cell_type": "code",
   "execution_count": null,
   "id": "a76feb66",
   "metadata": {},
   "outputs": [],
   "source": [
    "events.shape"
   ]
  },
  {
   "cell_type": "code",
   "execution_count": null,
   "id": "c0b40fbe",
   "metadata": {
    "scrolled": true
   },
   "outputs": [],
   "source": [
    "mne.viz.plot_events(events,event_id=event_id,sfreq=raw.info['sfreq'])"
   ]
  },
  {
   "cell_type": "code",
   "execution_count": null,
   "id": "866154b5",
   "metadata": {},
   "outputs": [],
   "source": []
  },
  {
   "cell_type": "code",
   "execution_count": null,
   "id": "60266ca3",
   "metadata": {},
   "outputs": [],
   "source": []
  }
 ],
 "metadata": {
  "kernelspec": {
   "display_name": "Python 3 (ipykernel)",
   "language": "python",
   "name": "python3"
  },
  "language_info": {
   "codemirror_mode": {
    "name": "ipython",
    "version": 3
   },
   "file_extension": ".py",
   "mimetype": "text/x-python",
   "name": "python",
   "nbconvert_exporter": "python",
   "pygments_lexer": "ipython3",
   "version": "3.10.5"
  }
 },
 "nbformat": 4,
 "nbformat_minor": 5
}
